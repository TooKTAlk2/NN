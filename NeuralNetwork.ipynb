{
 "cells": [
  {
   "cell_type": "markdown",
   "metadata": {},
   "source": [
    "# 학습목표"
   ]
  },
  {
   "cell_type": "markdown",
   "metadata": {},
   "source": [
    "- FeedPropagation과 BackPropagation을 이해할 수 있다.\n",
    "- 위 과정의 수식을 이해하고, 수식을 코드화 할 수 있다.\n",
    "- Xavier Initialization를 이해할 수 있다.\n",
    "- 남이 짜 놓은 코드를 빠르게 이해하고 습득할 수 있다.\n"
   ]
  },
  {
   "cell_type": "markdown",
   "metadata": {},
   "source": [
    "# Import Library"
   ]
  },
  {
   "cell_type": "code",
   "execution_count": 10,
   "metadata": {
    "ExecuteTime": {
     "end_time": "2020-06-07T05:50:33.466826Z",
     "start_time": "2020-06-07T05:50:32.868426Z"
    }
   },
   "outputs": [],
   "source": [
    "import numpy as np\n",
    "import scipy.special\n",
    "import matplotlib.pyplot as plt\n",
    "import pandas as pd\n",
    "import time"
   ]
  },
  {
   "cell_type": "markdown",
   "metadata": {},
   "source": [
    "# Declare NeuralNet class"
   ]
  },
  {
   "cell_type": "code",
   "execution_count": 11,
   "metadata": {
    "ExecuteTime": {
     "end_time": "2020-06-07T05:50:33.656321Z",
     "start_time": "2020-06-07T05:50:33.638368Z"
    }
   },
   "outputs": [],
   "source": [
    "# NeuralNet\n",
    "class NN:\n",
    "    \n",
    "    # 생성자\n",
    "    # 필요한 변수 nodes of layer and weights and function.\n",
    "    def __init__(self,inputnodes, hiddennodes,outputnodes,learningrate):\n",
    "        \n",
    "        self.inodes = inputnodes # 784\n",
    "        self.hnodes = hiddennodes # 150\n",
    "        self.onodes = outputnodes # 10\n",
    "        self.lr = learningrate # \n",
    "        # \n",
    "        # \n",
    "        self.wih=np.random.normal(0.0,pow(2/(self.inodes+self.hnodes),-0.5),(self.hnodes,self.inodes)) \n",
    "        self.who=np.random.normal(0.0,pow(2/(self.hnodes+self.onodes),-0.5),(self.onodes,self.hnodes))\n",
    "        # activation function\n",
    "        self.activation_function = lambda x :scipy.special.expit(x)\n",
    "        \n",
    "    \n",
    "    #\n",
    "    def train(self,inputs_list,targets_list):\n",
    "#         print(f\"Weights IH shape : {self.wih.shape}\")\n",
    "#         print(f\"Weights HO shape : {self.who.shape}\")\n",
    "        \n",
    "        # forward propagation\n",
    "        \n",
    "        \n",
    "        # input과 target을 받아와 numpy array로 변환 \n",
    "        inputs =np.array(inputs_list,ndmin=2).T\n",
    "        targets = np.array(targets_list,ndmin=2).T\n",
    "#         print(f\"inputs shape : {inputs.shape}\")\n",
    "#         print(f\"targets shape : {targets.shape}\")\n",
    "        # calc on hidden_layer\n",
    "        hidden_inputs = np.matmul(self.wih,inputs)\n",
    "#         print(f\"hidden_inputs shape : {hidden_inputs.shape}\")\n",
    "        hidden_outputs = self.activation_function(hidden_inputs)\n",
    "#         print(f\"hidden_outputs shape : {hidden_outputs.shape}\")\n",
    "        \n",
    "        # calc on output_layer\n",
    "        final_inputs = np.matmul(self.who,hidden_outputs)\n",
    "#         print(f\"final_inputs shape : {final_inputs.shape}\")\n",
    "        final_outputs = self.activation_function(final_inputs)\n",
    "#         print(f\"final_outputs shape : {final_outputs.shape}\")\n",
    "        \n",
    "        # error\n",
    "        target_errors = targets-final_outputs\n",
    "        \n",
    "        \n",
    "        # back_Propagation\n",
    "        \n",
    "        # hidden layer error derived from target_error\n",
    "        hidden_errors=np.matmul(np.transpose(self.who),target_errors)\n",
    "        # update weights between hidden and output layer\n",
    "        self.who = self.who + self.lr*np.matmul(target_errors*final_outputs*(1-final_outputs),np.transpose(hidden_outputs))\n",
    "        \n",
    "        # update weights between input and hidden layer\n",
    "        self.wih = self.wih + self.lr*np.matmul(hidden_errors*hidden_outputs*(1-hidden_outputs),np.transpose(inputs))\n",
    "        pass\n",
    "    \n",
    "    \n",
    "\n",
    "    def query(self,inputs_list) :\n",
    "        inputs = np.array(inputs_list,ndmin=2).T\n",
    "        hidden_inputs = np.matmul(self.wih,inputs)\n",
    "        hidden_outputs = self.activation_function(hidden_inputs)\n",
    "        final_inputs = np.matmul(self.who,hidden_outputs)\n",
    "        final_outputs = self.activation_function(final_inputs)\n",
    "        return final_outputs\n",
    "\n",
    "        "
   ]
  },
  {
   "cell_type": "markdown",
   "metadata": {},
   "source": [
    "# Set HyperParams"
   ]
  },
  {
   "cell_type": "code",
   "execution_count": 12,
   "metadata": {
    "ExecuteTime": {
     "end_time": "2020-06-07T05:50:38.320640Z",
     "start_time": "2020-06-07T05:50:38.312661Z"
    }
   },
   "outputs": [],
   "source": [
    "input_nodes = 784\n",
    "hidden_nodes = 150\n",
    "output_nodes = 10 #0~9 구분가능하게\n",
    "learningrate = 0.5\n",
    "\n",
    "# create Neural Net with HyperParams\n",
    "n = NN(input_nodes,hidden_nodes,output_nodes,learningrate)\n",
    "\n"
   ]
  },
  {
   "cell_type": "markdown",
   "metadata": {},
   "source": [
    "# Load dataSet"
   ]
  },
  {
   "cell_type": "code",
   "execution_count": 13,
   "metadata": {
    "ExecuteTime": {
     "end_time": "2020-06-07T05:54:08.970514Z",
     "start_time": "2020-06-07T05:54:08.473500Z"
    },
    "scrolled": false
   },
   "outputs": [],
   "source": [
    "training_data_file = open(\"mnist_dataset/mnist_train.csv\")\n",
    "training_data_list = training_data_file.readlines()\n",
    "training_data_file.close()\n",
    "test_data_file = open(\"mnist_dataset/mnist_test.csv\")\n",
    "test_data_list=test_data_file.readlines()\n",
    "test_data_file.close()"
   ]
  },
  {
   "cell_type": "markdown",
   "metadata": {},
   "source": [
    "# Stochastic Gradient Descent"
   ]
  },
  {
   "cell_type": "code",
   "execution_count": 14,
   "metadata": {
    "ExecuteTime": {
     "end_time": "2020-06-07T05:59:07.409299Z",
     "start_time": "2020-06-07T05:54:09.759064Z"
    },
    "scrolled": true
   },
   "outputs": [
    {
     "name": "stdout",
     "output_type": "stream",
     "text": [
      "sc's performance= 0.8178\n",
      "35.55909490585327 seconds for 1 epoches\n",
      "sc's performance= 0.8268\n",
      "40.562232971191406 seconds for 1 epoches\n",
      "sc's performance= 0.8408666666666667\n",
      "42.397109031677246 seconds for 1 epoches\n",
      "sc's performance= 0.847775\n",
      "43.48913884162903 seconds for 1 epoches\n",
      "sc's performance= 0.85404\n",
      "43.31302809715271 seconds for 1 epoches\n",
      "sc's performance= 0.8581\n",
      "43.07139492034912 seconds for 1 epoches\n",
      "sc's performance= 0.8621142857142857\n",
      "44.38589286804199 seconds for 1 epoches\n",
      "sc's performance= 0.8652625\n",
      "45.122387170791626 seconds for 1 epoches\n",
      "sc's performance= 0.8681888888888889\n",
      "46.903347969055176 seconds for 1 epoches\n",
      "sc's performance= 0.8704\n",
      "44.44703793525696 seconds for 1 epoches\n"
     ]
    },
    {
     "data": {
      "image/png": "[encoded data removed]",
      "text/plain": [
       "<Figure size 432x288 with 1 Axes>"
      ]
     },
     "metadata": {
      "needs_background": "light"
     },
     "output_type": "display_data"
    }
   ],
   "source": [
    "epoches = 10\n",
    "sc_scorecard=[] # stochastic grdadient 점수카드\n",
    "sc_score_array = []\n",
    "epoches_array = []\n",
    "start = time.time()\n",
    "\n",
    "for epoch in range(epoches):    \n",
    "    \n",
    "    epoches_array.append(epoch+1)\n",
    "    # train\n",
    "    for record in training_data_list : \n",
    "        # split csv index by ',' \n",
    "        all_values = record.split(',')\n",
    "        \n",
    "        # input min-max scaling 0-255 => 0.01~1 \n",
    "        inputs = np.asfarray(all_values[1:])/255.0*0.99+0.01\n",
    "        \n",
    "        # make target array\n",
    "        targets = np.zeros(output_nodes)\n",
    "        targets[int(all_values[0])] = 1\n",
    "        \n",
    "        n.train(inputs,targets)\n",
    "    \n",
    "    for record in test_data_list :\n",
    "        # input and tarkget\n",
    "        all_values=record.split(',')\n",
    "        correct_label=int(all_values[0])\n",
    "        inputs=(np.asfarray(all_values[1:])/255.0*0.99)+0.01\n",
    "        outputs = n.query(inputs)\n",
    "        label=np.argmax(outputs)\n",
    "\n",
    "        if (label==correct_label) : \n",
    "            sc_scorecard.append(1)\n",
    "        else:\n",
    "            sc_scorecard.append(0)\n",
    "            \n",
    "    \n",
    "    \n",
    "    sc_scorecard_array=np.asarray(sc_scorecard)\n",
    "    sc_score = sc_scorecard_array.sum()/sc_scorecard_array.size\n",
    "    \n",
    "    print(\"sc's performance=\",sc_score)\n",
    "    \n",
    "    sc_score_array.append(sc_score)\n",
    "    \n",
    "    \n",
    "    # estimate time \n",
    "    finish = time.time()\n",
    "    print(f\"{finish-start} seconds for 1 epoches\")\n",
    "    start = time.time()\n",
    "\n",
    "# make a plot\n",
    "plt.plot(epoches_array,sc_score_array,'r')\n",
    "\n",
    "score_data = pd.DataFrame(data = {\"SGD(score)\" : sc_score_array},index=epoches_array)"
   ]
  },
  {
   "cell_type": "code",
   "execution_count": null,
   "metadata": {},
   "outputs": [],
   "source": []
  },
  {
   "cell_type": "code",
   "execution_count": null,
   "metadata": {},
   "outputs": [],
   "source": []
  },
  {
   "cell_type": "code",
   "execution_count": null,
   "metadata": {},
   "outputs": [],
   "source": []
  },
  {
   "cell_type": "markdown",
   "metadata": {},
   "source": [
    "# Mini Batch "
   ]
  },
  {
   "cell_type": "code",
   "execution_count": 6,
   "metadata": {},
   "outputs": [],
   "source": [
    "class NN:\n",
    "    def __init__(self,inputnodes, hiddennodes,outputnodes,learningrate) :   #초기화 함수\n",
    "        \n",
    "        self.inodes = inputnodes\n",
    "        self.hnodes = hiddennodes\n",
    "        self.onodes = outputnodes\n",
    "        self.lr = learningrate\n",
    "        \n",
    "        \n",
    "        self.wih = np.random.normal(0.0,pow(2/(self.inodes+self.hnodes),-0.5),(self.hnodes,self.inodes))\n",
    "        self.who = np.random.normal(0.0,pow(2/(self.inodes+self.hnodes),-0.5),(self.onodes,self.hnodes))\n",
    "        \n",
    "        self.activation_function = lambda x :scipy.special.expit(x)\n",
    "        \n",
    "        pass\n",
    "    \n",
    "    \n",
    "    def train(self,inputs_list,targets_list):\n",
    "        #WHO WIH를 업데이트함\n",
    "        inputs =np.array(inputs_list,ndmin=2).T  #인풋배열만들기\n",
    "        targets = np.array(targets_list,ndmin=2).T #결과배열만들기\n",
    "        \n",
    "        hidden_inputs = np.matmul(self.wih,inputs)\n",
    "        hidden_outputs = self.activation_function(hidden_inputs)\n",
    "        \n",
    "        final_inputs = np.matmul(self.who,hidden_outputs)\n",
    "        final_outputs = self.activation_function(final_inputs)\n",
    "        \n",
    "        \n",
    "        final_errors = targets-final_outputs\n",
    "        hidden_errors=np.matmul(np.transpose(self.who),final_errors)        \n",
    "        \n",
    "        deltaho =self.lr*np.matmul(final_errors*final_outputs*(1-final_outputs),np.transpose(hidden_outputs))\n",
    "        deltaih =self.lr*np.matmul(hidden_errors*hidden_outputs*(1-hidden_outputs),np.transpose(inputs))\n",
    "\n",
    "        return deltaho,deltaih\n",
    "    \n",
    "    \n",
    "    \n",
    "    def update(self,ho,ih):\n",
    "        self.wih= self.wih+ih\n",
    "        self.who= self.who+ho\n",
    "        pass\n",
    "\n",
    "\n",
    "    def query(self,inputs_list):\n",
    "        inputs = np.array(inputs_list,ndmin=2).T\n",
    "        hidden_inputs = np.matmul(self.wih,inputs)\n",
    "        hidden_outputs = self.activation_function(hidden_inputs)\n",
    "        final_inputs = np.matmul(self.who,hidden_outputs)\n",
    "        final_outputs = self.activation_function(final_inputs)    \n",
    "        return final_outputs\n",
    "    "
   ]
  },
  {
   "cell_type": "code",
   "execution_count": 7,
   "metadata": {},
   "outputs": [],
   "source": [
    "input_nodes = 784\n",
    "hidden_nodes = 150\n",
    "output_nodes = 10 #0~9 구분가능하게\n",
    "learningrate = 0.5\n",
    "\n",
    "# create Neural Net with HyperParams\n",
    "n = NN(input_nodes,hidden_nodes,output_nodes,learningrate)"
   ]
  },
  {
   "cell_type": "code",
   "execution_count": 8,
   "metadata": {},
   "outputs": [
    {
     "name": "stdout",
     "output_type": "stream",
     "text": [
      "MB's performance= 0.7271\n",
      "38.8336398601532 seconds for 1 epoches\n",
      "MB's performance= 0.75465\n",
      "44.131325006484985 seconds for 1 epoches\n",
      "MB's performance= 0.7742\n",
      "44.48371124267578 seconds for 1 epoches\n",
      "MB's performance= 0.788025\n",
      "42.7229950428009 seconds for 1 epoches\n",
      "MB's performance= 0.79806\n",
      "42.68701910972595 seconds for 1 epoches\n",
      "MB's performance= 0.80755\n",
      "44.05207967758179 seconds for 1 epoches\n",
      "MB's performance= 0.8148428571428571\n",
      "43.87808418273926 seconds for 1 epoches\n",
      "MB's performance= 0.8212\n",
      "45.00686073303223 seconds for 1 epoches\n",
      "MB's performance= 0.8264\n",
      "45.921501874923706 seconds for 1 epoches\n",
      "MB's performance= 0.83069\n",
      "45.507035970687866 seconds for 1 epoches\n",
      "[1, 2, 3, 4, 5, 6, 7, 8, 9, 10]\n",
      "[0.7271, 0.75465, 0.7742, 0.788025, 0.79806, 0.80755, 0.8148428571428571, 0.8212, 0.8264, 0.83069]\n"
     ]
    }
   ],
   "source": [
    "\n",
    "epoches = 10\n",
    "\n",
    "mb_scorecard=[] # Mini batch\n",
    "mb_score_array = []\n",
    "epoches_array = []\n",
    "batch_size = 10\n",
    "start = time.time()\n",
    "\n",
    "\n",
    "for epoch in range(epoches):    \n",
    "    epoches_array.append(epoch+1)\n",
    "    \n",
    "    # for  # of train sample/batch_szie = 6000\n",
    "    epoch_minibatch = int(len(training_data_list)/batch_size)\n",
    "   \n",
    "    # (6000,1)  6만개를 batch_size씩 묶어서 update, batch_size개가 될 때마다 업데이트 => \n",
    "    training_data_MBlist=[0 for x in range(epoch_minibatch)]\n",
    "    \n",
    "    \n",
    "    # 60000/batch_size => 전체를 학습하기 위해서 6000번 반복\n",
    "    for i in range(len(training_data_MBlist)):\n",
    "        \n",
    "        # weights를 저장할 mask 선언\n",
    "        deltaih = np.zeros((hidden_nodes,input_nodes))\n",
    "        deltaho = np.zeros((output_nodes,hidden_nodes))\n",
    "        \n",
    "        # i번째 훈련시 batch_size의 sample씩 배정\n",
    "        training_data_MBlist[i]=training_data_list[batch_size*i:batch_size*(i+1)]\n",
    "        \n",
    "        # 10개의 sample씩\n",
    "        for k,record in enumerate(training_data_MBlist[i],start=1):\n",
    "            \n",
    "\n",
    "            all_values = record.split(',') \n",
    "            inputs = np.asfarray(all_values[1:])/255.0*0.99+0.01\n",
    "            targets = np.zeros(output_nodes)\n",
    "            targets[int(all_values[0])] = 1\n",
    "            \n",
    "            # batch_size 때는 업데이트도 함.\n",
    "            if k==batch_size:\n",
    "                # 훈련된 weight를 mask에 저장\n",
    "                K = n.train(inputs,targets)\n",
    "                deltaho = deltaho+K[0]\n",
    "                deltaih = deltaih+K[1]\n",
    "                \n",
    "                # batch_size로 나눈 뒤 업데이트\n",
    "                ho = deltaho/batch_size\n",
    "                ih = deltaih/batch_size\n",
    "                n.update(ho,ih)\n",
    "                # initialize mask\n",
    "                deltaih = np.zeros((hidden_nodes,input_nodes))\n",
    "                deltaho = np.zeros((output_nodes,hidden_nodes))\n",
    "\n",
    "            #  \n",
    "            else :\n",
    "                # 훈련 후 저장\n",
    "                K=n.train(inputs,targets)\n",
    "                deltaho = deltaho+K[0]\n",
    "                deltaih = deltaih+K[1]\n",
    "                \n",
    "    for record in test_data_list :\n",
    "        all_values=record.split(',')\n",
    "        correct_label=int(all_values[0])\n",
    "\n",
    "        inputs=(np.asfarray(all_values[1:])/255.0*0.99)+0.01\n",
    "        outputs = n.query(inputs)\n",
    "        label=np.argmax(outputs)\n",
    "\n",
    "        if (label==correct_label) : \n",
    "            mb_scorecard.append(1)\n",
    "        else:\n",
    "            mb_scorecard.append(0)\n",
    "\n",
    "    scorecardMB_array=np.asarray(mb_scorecard)\n",
    "    scoreMB = scorecardMB_array.sum()/scorecardMB_array.size\n",
    "    \n",
    "    print(\"MB's performance=\",scoreMB)\n",
    "    mb_score_array.append(scoreMB)\n",
    "\n",
    "    # estimate time \n",
    "    finish = time.time()\n",
    "    print(f\"{finish-start} seconds for 1 epoches\")\n",
    "    start = time.time()\n",
    "    \n",
    "print(epoches_array)\n",
    "print(mb_score_array)"
   ]
  },
  {
   "cell_type": "code",
   "execution_count": 9,
   "metadata": {
    "scrolled": true
   },
   "outputs": [
    {
     "data": {
      "image/png": "[encoded data removed]",
      "text/plain": [
       "<Figure size 432x288 with 1 Axes>"
      ]
     },
     "metadata": {
      "needs_background": "light"
     },
     "output_type": "display_data"
    }
   ],
   "source": [
    "# make a plot\n",
    "plt.plot(epoches_array,mb_score_array,'b')\n",
    "plt.show()"
   ]
  },
  {
   "cell_type": "markdown",
   "metadata": {},
   "source": [
    "# 참고자료\n",
    "- sigmoid의 약점 : https://stats.stackexchange.com/questions/237169/why-are-non-zero-centered-activation-functions-a-problem-in-backpropagation\n",
    "- 활성화 함수와 가중치 초기화 : https://excelsior-cjh.tistory.com/177"
   ]
  },
  {
   "cell_type": "code",
   "execution_count": null,
   "metadata": {},
   "outputs": [],
   "source": []
  }
 ],
 "metadata": {
  "hide_input": false,
  "kernelspec": {
   "display_name": "Python 3",
   "language": "python",
   "name": "python3"
  },
  "toc": {
   "base_numbering": 1,
   "nav_menu": {},
   "number_sections": true,
   "sideBar": true,
   "skip_h1_title": false,
   "title_cell": "Table of Contents",
   "title_sidebar": "Contents",
   "toc_cell": false,
   "toc_position": {},
   "toc_section_display": true,
   "toc_window_display": true
  },
  "varInspector": {
   "cols": {
    "lenName": 16,
    "lenType": 16,
    "lenVar": 40
   },
   "kernels_config": {
    "python": {
     "delete_cmd_postfix": "",
     "delete_cmd_prefix": "del ",
     "library": "var_list.py",
     "varRefreshCmd": "print(var_dic_list())"
    },
    "r": {
     "delete_cmd_postfix": ") ",
     "delete_cmd_prefix": "rm(",
     "library": "var_list.r",
     "varRefreshCmd": "cat(var_dic_list()) "
    }
   },
   "types_to_exclude": [
    "module",
    "function",
    "builtin_function_or_method",
    "instance",
    "_Feature"
   ],
   "window_display": false
  }
 },
 "nbformat": 4,
 "nbformat_minor": 2
}
